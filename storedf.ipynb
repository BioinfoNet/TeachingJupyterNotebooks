{
 "cells": [
  {
   "cell_type": "code",
   "execution_count": 1,
   "metadata": {},
   "outputs": [],
   "source": [
    "import pandas as pd"
   ]
  },
  {
   "cell_type": "code",
   "execution_count": 2,
   "metadata": {},
   "outputs": [
    {
     "name": "stdout",
     "output_type": "stream",
     "text": [
      "   S.aureus  A.baumanii  E.coli  K.pneumoniae  S.pneumoniae  H.pylori\n",
      "G       239         246     283           232           345       434\n",
      "A       213         190     207           168           334       401\n",
      "T       178         151     163           124           394       342\n",
      "C       160         147     191           155           481       326\n",
      "\n",
      "     G    A    T    C      organism\n",
      "0  246  190  151  147    A.baumanii\n",
      "1  283  207  163  191        E.coli\n",
      "2  434  401  342  326      H.pylori\n",
      "3  232  168  124  155  K.pneumoniae\n",
      "4  239  213  178  160      S.aureus\n",
      "5  345  334  394  481  S.pneumoniae\n"
     ]
    }
   ],
   "source": [
    "\n",
    "# Make a dataframe to use in the subsequent steps of the analysis\n",
    "df = pd.DataFrame({\"S.aureus\": [239, 213, 178, 160],\n",
    "                   \"A.baumanii\": [246, 190, 151, 147],\n",
    "                   \"E.coli\": [283, 207, 163, 191],\n",
    "                   \"K.pneumoniae\": [232, 168, 124, 155],\n",
    "                   \"S.pneumoniae\": [345, 334, 394, 481],\n",
    "                   \"H.pylori\": [434, 401, 342, 326]}, index = [\"G\", \"A\", \"T\", \"C\"])\n",
    "\n",
    "# A different version of the above dataframe\n",
    "df2 = pd.DataFrame({\"G\":[246,283,434,232,239,345],\n",
    "                    \"A\":[190,207,401,168,213,334],\n",
    "                    \"T\":[151,163,342,124,178,394],\n",
    "                    \"C\":[147,191,326,155,160,481],\n",
    "                    \"organism\":[\"A.baumanii\",\"E.coli\",\"H.pylori\",\"K.pneumoniae\"\n",
    "                                ,\"S.aureus\",\"S.pneumoniae\"]})\n",
    "\n",
    "print (df)\n",
    "print (\"\")\n",
    "print (df2)"
   ]
  },
  {
   "cell_type": "code",
   "execution_count": 3,
   "metadata": {},
   "outputs": [
    {
     "name": "stdout",
     "output_type": "stream",
     "text": [
      "Stored 'df' (DataFrame)\n"
     ]
    }
   ],
   "source": [
    "%store df"
   ]
  },
  {
   "cell_type": "code",
   "execution_count": 4,
   "metadata": {},
   "outputs": [
    {
     "name": "stdout",
     "output_type": "stream",
     "text": [
      "Stored 'df2' (DataFrame)\n"
     ]
    }
   ],
   "source": [
    "%store df2"
   ]
  },
  {
   "cell_type": "code",
   "execution_count": null,
   "metadata": {},
   "outputs": [],
   "source": []
  }
 ],
 "metadata": {
  "hide_input": false,
  "kernelspec": {
   "display_name": "Python 3",
   "language": "python",
   "name": "python3"
  },
  "language_info": {
   "codemirror_mode": {
    "name": "ipython",
    "version": 3
   },
   "file_extension": ".py",
   "mimetype": "text/x-python",
   "name": "python",
   "nbconvert_exporter": "python",
   "pygments_lexer": "ipython3",
   "version": "3.6.5"
  },
  "toc": {
   "base_numbering": 1,
   "nav_menu": {},
   "number_sections": true,
   "sideBar": true,
   "skip_h1_title": false,
   "title_cell": "Table of Contents",
   "title_sidebar": "Contents",
   "toc_cell": false,
   "toc_position": {},
   "toc_section_display": true,
   "toc_window_display": false
  }
 },
 "nbformat": 4,
 "nbformat_minor": 2
}
